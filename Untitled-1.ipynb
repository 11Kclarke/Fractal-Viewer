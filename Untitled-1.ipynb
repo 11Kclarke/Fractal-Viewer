{
 "cells": [
  {
   "cell_type": "code",
   "execution_count": 1,
   "metadata": {},
   "outputs": [],
   "source": [
    "import numpy as np\n",
    "nx, ny = (3, 3)\n",
    "x = np.linspace(0, 1, nx)\n",
    "y = np.linspace(0, 1, ny)\n",
    "xv, yv = np.meshgrid(x, y)"
   ]
  },
  {
   "cell_type": "code",
   "execution_count": 2,
   "metadata": {},
   "outputs": [
    {
     "data": {
      "text/plain": [
       "(array([[0. , 0.5, 1. ],\n",
       "        [0. , 0.5, 1. ],\n",
       "        [0. , 0.5, 1. ]]),\n",
       " array([[0. , 0. , 0. ],\n",
       "        [0.5, 0.5, 0.5],\n",
       "        [1. , 1. , 1. ]]))"
      ]
     },
     "execution_count": 2,
     "metadata": {},
     "output_type": "execute_result"
    }
   ],
   "source": [
    "xv,yv"
   ]
  },
  {
   "cell_type": "code",
   "execution_count": 7,
   "metadata": {},
   "outputs": [],
   "source": [
    "test = np.ones(5)\n",
    "test=test*1j"
   ]
  },
  {
   "cell_type": "code",
   "execution_count": 8,
   "metadata": {},
   "outputs": [
    {
     "data": {
      "text/plain": [
       "(-1+0j)"
      ]
     },
     "execution_count": 8,
     "metadata": {},
     "output_type": "execute_result"
    }
   ],
   "source": [
    "test[0]**2"
   ]
  },
  {
   "cell_type": "code",
   "execution_count": 10,
   "metadata": {},
   "outputs": [
    {
     "data": {
      "text/plain": [
       "[<matplotlib.lines.Line2D at 0x1e5820de340>]"
      ]
     },
     "execution_count": 10,
     "metadata": {},
     "output_type": "execute_result"
    },
    {
     "data": {
      "image/png": "[encoded data removed]",
      "text/plain": [
       "<Figure size 432x288 with 1 Axes>"
      ]
     },
     "metadata": {
      "needs_background": "light"
     },
     "output_type": "display_data"
    }
   ],
   "source": [
    "import matplotlib.pyplot as plt\n",
    "plt.plot(1,1)"
   ]
  },
  {
   "cell_type": "code",
   "execution_count": 11,
   "metadata": {},
   "outputs": [
    {
     "data": {
      "text/plain": [
       "[<matplotlib.lines.Line2D at 0x1e5821d56d0>]"
      ]
     },
     "execution_count": 11,
     "metadata": {},
     "output_type": "execute_result"
    },
    {
     "data": {
      "image/png": "[encoded data removed]",
      "text/plain": [
       "<Figure size 432x288 with 1 Axes>"
      ]
     },
     "metadata": {
      "needs_background": "light"
     },
     "output_type": "display_data"
    }
   ],
   "source": [
    "import matplotlib.pyplot as plt\n",
    "plt.ion()\n",
    "plt.plot(1,1)"
   ]
  },
  {
   "cell_type": "code",
   "execution_count": 12,
   "metadata": {},
   "outputs": [
    {
     "data": {
      "text/plain": [
       "[<matplotlib.lines.Line2D at 0x1e582244160>]"
      ]
     },
     "execution_count": 12,
     "metadata": {},
     "output_type": "execute_result"
    },
    {
     "data": {
      "image/png": "[encoded data removed]",
      "text/plain": [
       "<Figure size 432x288 with 1 Axes>"
      ]
     },
     "metadata": {
      "needs_background": "light"
     },
     "output_type": "display_data"
    }
   ],
   "source": [
    "plt.plot((1,2),(2,1))"
   ]
  },
  {
   "cell_type": "code",
   "execution_count": 1,
   "metadata": {},
   "outputs": [
    {
     "ename": "TypeError",
     "evalue": "'int' object is not subscriptable",
     "output_type": "error",
     "traceback": [
      "\u001b[1;31m---------------------------------------------------------------------------\u001b[0m",
      "\u001b[1;31mTypeError\u001b[0m                                 Traceback (most recent call last)",
      "\u001b[1;32m~\\AppData\\Local\\Temp/ipykernel_8652/182999424.py\u001b[0m in \u001b[0;36m<module>\u001b[1;34m\u001b[0m\n\u001b[0;32m      1\u001b[0m \u001b[0ma\u001b[0m\u001b[1;33m=\u001b[0m\u001b[1;36m1\u001b[0m\u001b[1;33m\u001b[0m\u001b[1;33m\u001b[0m\u001b[0m\n\u001b[1;32m----> 2\u001b[1;33m \u001b[0ma\u001b[0m\u001b[1;33m[\u001b[0m\u001b[1;33m-\u001b[0m\u001b[1;36m1\u001b[0m\u001b[1;33m]\u001b[0m\u001b[1;33m\u001b[0m\u001b[1;33m\u001b[0m\u001b[0m\n\u001b[0m",
      "\u001b[1;31mTypeError\u001b[0m: 'int' object is not subscriptable"
     ]
    }
   ],
   "source": [
    "a=1\n",
    "a[-1]"
   ]
  },
  {
   "cell_type": "code",
   "execution_count": 13,
   "metadata": {},
   "outputs": [
    {
     "data": {
      "text/plain": [
       "deque([1, 2, 3, 4, 5])"
      ]
     },
     "execution_count": 13,
     "metadata": {},
     "output_type": "execute_result"
    }
   ],
   "source": [
    "from collections import deque\n",
    "a=deque([1,2,3,4,5])\n",
    "a"
   ]
  },
  {
   "cell_type": "code",
   "execution_count": 6,
   "metadata": {},
   "outputs": [
    {
     "data": {
      "text/plain": [
       "deque([1, 2, 3, 4])"
      ]
     },
     "execution_count": 6,
     "metadata": {},
     "output_type": "execute_result"
    }
   ],
   "source": [
    "a.pop()\n",
    "a"
   ]
  },
  {
   "cell_type": "code",
   "execution_count": 20,
   "metadata": {},
   "outputs": [
    {
     "name": "stdout",
     "output_type": "stream",
     "text": [
      "deque([0, 19, 18, 17, 16])\n",
      "deque([1, 0, 19, 18, 17])\n",
      "deque([2, 1, 0, 19, 18])\n",
      "deque([3, 2, 1, 0, 19])\n",
      "deque([4, 3, 2, 1, 0])\n",
      "deque([5, 4, 3, 2, 1])\n",
      "deque([6, 5, 4, 3, 2])\n",
      "deque([7, 6, 5, 4, 3])\n",
      "deque([8, 7, 6, 5, 4])\n",
      "deque([9, 8, 7, 6, 5])\n",
      "deque([10, 9, 8, 7, 6])\n",
      "deque([11, 10, 9, 8, 7])\n",
      "deque([12, 11, 10, 9, 8])\n",
      "deque([13, 12, 11, 10, 9])\n",
      "deque([14, 13, 12, 11, 10])\n",
      "deque([15, 14, 13, 12, 11])\n",
      "deque([16, 15, 14, 13, 12])\n",
      "deque([17, 16, 15, 14, 13])\n",
      "deque([18, 17, 16, 15, 14])\n",
      "deque([19, 18, 17, 16, 15])\n"
     ]
    }
   ],
   "source": [
    "for i in range(20):\n",
    "    a.appendleft(i)\n",
    "    a.pop()\n",
    "    print(a)"
   ]
  },
  {
   "cell_type": "code",
   "execution_count": 24,
   "metadata": {},
   "outputs": [],
   "source": [
    "def floydscycledetection(head):\n",
    "    # take two references – `slow` and `fast`\n",
    "    slow = fast = head\n",
    " \n",
    "    while fast and fast.next:\n",
    " \n",
    "        # move slow by one\n",
    "        slow = slow.next\n",
    " \n",
    "        # move fast by two\n",
    "        fast = fast.next.next\n",
    " \n",
    "        # if they meet any node, the linked list contains a cycle\n",
    "        if slow == fast:\n",
    "            return True\n",
    " \n",
    "    # we reach here if slow and fast do not meet\n",
    "    return False"
   ]
  },
  {
   "cell_type": "code",
   "execution_count": 30,
   "metadata": {},
   "outputs": [],
   "source": [
    "import itertools\n",
    " \n",
    "def brent(ys):\n",
    "    # main phase: search successive powers of two\n",
    "    \n",
    "    power = lam = 1\n",
    "    tortoise = ys[0]\n",
    "    hare = ys[1]  # f(x0) is the element/node next to x0.\n",
    "    i=1\n",
    "    while tortoise != hare:\n",
    "        if power == lam:  # time to start a new power of two?\n",
    "            tortoise = hare\n",
    "            power *= 2\n",
    "            lam = 0\n",
    "        hare = ys[i+1]\n",
    "        lam += 1\n",
    " \n",
    "    # Find the position of the first repetition of length lam\n",
    "    mu = 0\n",
    "    tortoise = hare = ys[0]\n",
    "    for i in range(lam):\n",
    "    # range(lam) produces a list with the values 0, 1, ... , lam-1\n",
    "        hare = ys[i+1]\n",
    "    # The distance between the hare and tortoise is now lam.\n",
    " \n",
    "    # Next, the hare and tortoise move at same speed until they agree\n",
    "    j=0\n",
    "    while tortoise != hare:\n",
    "        tortoise = ys[j+1]\n",
    "        hare = ys[j+1]\n",
    "        mu += 1\n",
    " \n",
    "    return lam, mu"
   ]
  },
  {
   "cell_type": "code",
   "execution_count": 40,
   "metadata": {},
   "outputs": [
    {
     "data": {
      "text/plain": [
       "(1, 1)"
      ]
     },
     "execution_count": 40,
     "metadata": {},
     "output_type": "execute_result"
    }
   ],
   "source": [
    "a=[1,2,3,4,5,5.000000000001]\n",
    "brent(a)   "
   ]
  },
  {
   "cell_type": "code",
   "execution_count": 47,
   "metadata": {},
   "outputs": [],
   "source": [
    "def splitdomain(x1,x2,y1,y2,n):\n",
    "    dx=(x2-x1)/n\n",
    "    dy=(y2-y1)/n\n",
    "    return [(x1+i*dx,x1+(i+1)*dx,y1+j*dy,y1+(j+1)*dy) for i in range(n) for j in range(n)]"
   ]
  },
  {
   "cell_type": "code",
   "execution_count": 48,
   "metadata": {},
   "outputs": [
    {
     "data": {
      "text/plain": [
       "<matplotlib.collections.PathCollection at 0x26b6c9f9490>"
      ]
     },
     "execution_count": 48,
     "metadata": {},
     "output_type": "execute_result"
    },
    {
     "data": {
      "image/png": "[encoded data removed]",
      "text/plain": [
       "<Figure size 432x288 with 1 Axes>"
      ]
     },
     "metadata": {},
     "output_type": "display_data"
    }
   ],
   "source": [
    "plt.scatter((1,-1),(1,-1))"
   ]
  },
  {
   "cell_type": "code",
   "execution_count": 52,
   "metadata": {},
   "outputs": [
    {
     "name": "stdout",
     "output_type": "stream",
     "text": [
      "[(1.0, 0.5, 1.0, 0.5), (1.0, 0.5, 0.5, 0.0), (1.0, 0.5, 0.0, -0.5), (1.0, 0.5, -0.5, -1.0), (0.5, 0.0, 1.0, 0.5), (0.5, 0.0, 0.5, 0.0), (0.5, 0.0, 0.0, -0.5), (0.5, 0.0, -0.5, -1.0), (0.0, -0.5, 1.0, 0.5), (0.0, -0.5, 0.5, 0.0), (0.0, -0.5, 0.0, -0.5), (0.0, -0.5, -0.5, -1.0), (-0.5, -1.0, 1.0, 0.5), (-0.5, -1.0, 0.5, 0.0), (-0.5, -1.0, 0.0, -0.5), (-0.5, -1.0, -0.5, -1.0)]\n"
     ]
    },
    {
     "data": {
      "image/png": "[encoded data removed]",
      "text/plain": [
       "<Figure size 432x288 with 1 Axes>"
      ]
     },
     "metadata": {},
     "output_type": "display_data"
    }
   ],
   "source": [
    "import matplotlib.pyplot as plt\n",
    "var=splitdomain(1,-1,1,-1,4)\n",
    "print(var)\n",
    "for i in var:\n",
    "    plt.scatter((i[0],i[1]),(i[2],i[3]))\n"
   ]
  },
  {
   "cell_type": "code",
   "execution_count": 58,
   "metadata": {},
   "outputs": [
    {
     "data": {
      "text/plain": [
       "[('reee', (9, 4)),\n",
       " ('reee', (3, 4)),\n",
       " ('reee', (2, 3)),\n",
       " ('reee', (1, 2)),\n",
       " ('reee', (7, 6)),\n",
       " ('reee', (6, 8)),\n",
       " ('reee', (4, 0)),\n",
       " ('reee', (7, 1)),\n",
       " ('reee', (9, 9)),\n",
       " ('reee', (2, 2)),\n",
       " ('reee', (0, 3)),\n",
       " ('reee', (3, 6)),\n",
       " ('reee', (7, 8)),\n",
       " ('reee', (6, 6)),\n",
       " ('reee', (5, 4)),\n",
       " ('reee', (0, 8)),\n",
       " ('reee', (9, 7)),\n",
       " ('reee', (4, 2)),\n",
       " ('reee', (8, 0)),\n",
       " ('reee', (5, 7)),\n",
       " ('reee', (9, 6)),\n",
       " ('reee', (5, 1)),\n",
       " ('reee', (0, 0)),\n",
       " ('reee', (8, 4)),\n",
       " ('reee', (5, 8)),\n",
       " ('reee', (1, 1)),\n",
       " ('reee', (1, 8)),\n",
       " ('reee', (7, 4)),\n",
       " ('reee', (4, 6)),\n",
       " ('reee', (8, 6)),\n",
       " ('reee', (4, 1)),\n",
       " ('reee', (4, 8)),\n",
       " ('reee', (3, 7)),\n",
       " ('reee', (3, 2)),\n",
       " ('reee', (4, 9)),\n",
       " ('reee', (0, 5)),\n",
       " ('reee', (0, 1)),\n",
       " ('reee', (3, 1)),\n",
       " ('reee', (0, 2)),\n",
       " ('reee', (7, 3)),\n",
       " ('reee', (7, 7)),\n",
       " ('reee', (6, 4)),\n",
       " ('reee', (6, 2)),\n",
       " ('reee', (9, 2)),\n",
       " ('reee', (5, 5)),\n",
       " ('reee', (4, 4)),\n",
       " ('reee', (2, 0)),\n",
       " ('reee', (3, 3)),\n",
       " ('reee', (7, 0)),\n",
       " ('reee', (6, 3)),\n",
       " ('reee', (7, 9)),\n",
       " ('reee', (2, 1)),\n",
       " ('reee', (1, 9)),\n",
       " ('reee', (8, 5)),\n",
       " ('reee', (1, 5)),\n",
       " ('reee', (9, 0)),\n",
       " ('reee', (2, 8)),\n",
       " ('reee', (5, 6)),\n",
       " ('reee', (0, 4)),\n",
       " ('reee', (1, 0)),\n",
       " ('reee', (5, 9)),\n",
       " ('reee', (9, 8)),\n",
       " ('reee', (5, 0)),\n",
       " ('reee', (9, 3)),\n",
       " ('reee', (6, 1)),\n",
       " ('reee', (9, 1)),\n",
       " ('reee', (3, 5)),\n",
       " ('reee', (1, 3)),\n",
       " ('reee', (3, 0)),\n",
       " ('reee', (3, 8)),\n",
       " ('reee', (0, 9)),\n",
       " ('reee', (0, 7)),\n",
       " ('reee', (2, 7)),\n",
       " ('reee', (2, 4)),\n",
       " ('reee', (2, 5)),\n",
       " ('reee', (1, 7)),\n",
       " ('reee', (7, 2)),\n",
       " ('reee', (7, 5)),\n",
       " ('reee', (3, 9)),\n",
       " ('reee', (1, 6)),\n",
       " ('reee', (8, 7)),\n",
       " ('reee', (9, 5)),\n",
       " ('reee', (6, 9)),\n",
       " ('reee', (8, 3)),\n",
       " ('reee', (0, 6)),\n",
       " ('reee', (6, 5)),\n",
       " ('reee', (4, 3)),\n",
       " ('reee', (6, 7)),\n",
       " ('reee', (1, 4)),\n",
       " ('reee', (5, 3)),\n",
       " ('reee', (2, 9)),\n",
       " ('reee', (6, 0)),\n",
       " ('reee', (2, 6)),\n",
       " ('reee', (8, 9)),\n",
       " ('reee', (8, 2)),\n",
       " ('reee', (5, 2)),\n",
       " ('reee', (8, 1)),\n",
       " ('reee', (4, 7)),\n",
       " ('reee', (4, 5)),\n",
       " ('reee', (8, 8))]"
      ]
     },
     "execution_count": 58,
     "metadata": {},
     "output_type": "execute_result"
    }
   ],
   "source": [
    "t=[]\n",
    "for i in range(10):\n",
    "    for k in range(10):\n",
    "        t.append((\"reee\",(i,k)))\n",
    "t\n",
    "import random\n",
    "\n",
    "\n",
    "random.shuffle(t)\n",
    "t"
   ]
  },
  {
   "cell_type": "code",
   "execution_count": 57,
   "metadata": {},
   "outputs": [
    {
     "data": {
      "text/plain": [
       "[('reee', (0, 0)),\n",
       " ('reee', (0, 1)),\n",
       " ('reee', (0, 2)),\n",
       " ('reee', (0, 3)),\n",
       " ('reee', (0, 4)),\n",
       " ('reee', (0, 5)),\n",
       " ('reee', (0, 6)),\n",
       " ('reee', (0, 7)),\n",
       " ('reee', (0, 8)),\n",
       " ('reee', (0, 9)),\n",
       " ('reee', (1, 0)),\n",
       " ('reee', (1, 1)),\n",
       " ('reee', (1, 2)),\n",
       " ('reee', (1, 3)),\n",
       " ('reee', (1, 4)),\n",
       " ('reee', (1, 5)),\n",
       " ('reee', (1, 6)),\n",
       " ('reee', (1, 7)),\n",
       " ('reee', (1, 8)),\n",
       " ('reee', (1, 9)),\n",
       " ('reee', (2, 0)),\n",
       " ('reee', (2, 1)),\n",
       " ('reee', (2, 2)),\n",
       " ('reee', (2, 3)),\n",
       " ('reee', (2, 4)),\n",
       " ('reee', (2, 5)),\n",
       " ('reee', (2, 6)),\n",
       " ('reee', (2, 7)),\n",
       " ('reee', (2, 8)),\n",
       " ('reee', (2, 9)),\n",
       " ('reee', (3, 0)),\n",
       " ('reee', (3, 1)),\n",
       " ('reee', (3, 2)),\n",
       " ('reee', (3, 3)),\n",
       " ('reee', (3, 4)),\n",
       " ('reee', (3, 5)),\n",
       " ('reee', (3, 6)),\n",
       " ('reee', (3, 7)),\n",
       " ('reee', (3, 8)),\n",
       " ('reee', (3, 9)),\n",
       " ('reee', (4, 0)),\n",
       " ('reee', (4, 1)),\n",
       " ('reee', (4, 2)),\n",
       " ('reee', (4, 3)),\n",
       " ('reee', (4, 4)),\n",
       " ('reee', (4, 5)),\n",
       " ('reee', (4, 6)),\n",
       " ('reee', (4, 7)),\n",
       " ('reee', (4, 8)),\n",
       " ('reee', (4, 9)),\n",
       " ('reee', (5, 0)),\n",
       " ('reee', (5, 1)),\n",
       " ('reee', (5, 2)),\n",
       " ('reee', (5, 3)),\n",
       " ('reee', (5, 4)),\n",
       " ('reee', (5, 5)),\n",
       " ('reee', (5, 6)),\n",
       " ('reee', (5, 7)),\n",
       " ('reee', (5, 8)),\n",
       " ('reee', (5, 9)),\n",
       " ('reee', (6, 0)),\n",
       " ('reee', (6, 1)),\n",
       " ('reee', (6, 2)),\n",
       " ('reee', (6, 3)),\n",
       " ('reee', (6, 4)),\n",
       " ('reee', (6, 5)),\n",
       " ('reee', (6, 6)),\n",
       " ('reee', (6, 7)),\n",
       " ('reee', (6, 8)),\n",
       " ('reee', (6, 9)),\n",
       " ('reee', (7, 0)),\n",
       " ('reee', (7, 1)),\n",
       " ('reee', (7, 2)),\n",
       " ('reee', (7, 3)),\n",
       " ('reee', (7, 4)),\n",
       " ('reee', (7, 5)),\n",
       " ('reee', (7, 6)),\n",
       " ('reee', (7, 7)),\n",
       " ('reee', (7, 8)),\n",
       " ('reee', (7, 9)),\n",
       " ('reee', (8, 0)),\n",
       " ('reee', (8, 1)),\n",
       " ('reee', (8, 2)),\n",
       " ('reee', (8, 3)),\n",
       " ('reee', (8, 4)),\n",
       " ('reee', (8, 5)),\n",
       " ('reee', (8, 6)),\n",
       " ('reee', (8, 7)),\n",
       " ('reee', (8, 8)),\n",
       " ('reee', (8, 9)),\n",
       " ('reee', (9, 0)),\n",
       " ('reee', (9, 1)),\n",
       " ('reee', (9, 2)),\n",
       " ('reee', (9, 3)),\n",
       " ('reee', (9, 4)),\n",
       " ('reee', (9, 5)),\n",
       " ('reee', (9, 6)),\n",
       " ('reee', (9, 7)),\n",
       " ('reee', (9, 8)),\n",
       " ('reee', (9, 9))]"
      ]
     },
     "execution_count": 57,
     "metadata": {},
     "output_type": "execute_result"
    }
   ],
   "source": [
    "\n",
    "t.sort(key=lambda x: (x[1][0],x[1][1]))\n",
    "t"
   ]
  },
  {
   "cell_type": "code",
   "execution_count": 1,
   "metadata": {},
   "outputs": [],
   "source": [
    "from multiprocessing import Pool\n",
    "import time"
   ]
  },
  {
   "cell_type": "code",
   "execution_count": 59,
   "metadata": {},
   "outputs": [],
   "source": [
    "\n",
    "COUNT = 50000\n",
    "def countdown(n):\n",
    "    while n>0:\n",
    "        n -= 1\n",
    "\n",
    "if __name__ == '__main__':\n",
    "    pool = Pool(processes=2)\n",
    "    start = time.time()\n",
    "    r1 = pool.apply_async(countdown, [COUNT//2])\n",
    "    r2 = pool.apply_async(countdown, [COUNT//2])\n",
    "    pool.close()\n",
    "    pool.join()\n",
    "    end = time.time()\n",
    "    print('Time taken in seconds -', end - start)"
   ]
  },
  {
   "cell_type": "code",
   "execution_count": 1,
   "metadata": {},
   "outputs": [],
   "source": [
    "import itertools"
   ]
  },
  {
   "cell_type": "code",
   "execution_count": 34,
   "metadata": {},
   "outputs": [],
   "source": [
    "from scipy.optimize import fsolve,root\n",
    "import numpy as np\n",
    "from mpmath import findroot\n",
    "\"\"\"def findroot(f,X0,methods=('hybr', 'lm'),args=None):\n",
    "    if args !=None:\n",
    "        for  i in range(len(methods)):\n",
    "            sol = root(f, X0, method=methods[i], args=(args,))#somehow having the single argument be 2 tuples deep makes it work\n",
    "\n",
    "            if sol.success:\n",
    "                return sol.x\n",
    "        print('No solution found with current method selection')\n",
    "        return None\n",
    "    else:\n",
    "        for  i in range(len(methods)):\n",
    "            sol = root(f, X0, method=methods[i])\n",
    "            if sol.success:\n",
    "                return sol.x\n",
    "        print('No solution found with current method selection')\n",
    "        return None\n",
    "\"\"\"\n",
    "\n",
    "def newtonsmethod(f,fprime,x0,tol=1e-6,maxdepth=100):\n",
    "    x=x0\n",
    "    for i in range(maxdepth):\n",
    "        x=x-f(x)/fprime(x)\n",
    "        if abs(f(x))<tol:\n",
    "            return x\n",
    "    return x\n",
    "\n",
    "\n",
    "\n",
    "\n",
    "def getallsolutions(f,domain,params=0,checks=100,numsolutions=None,solver=findroot,relsolsamtol=0.1,real=False):\n",
    "    #domain has 2 values for each dimension of fs input\n",
    "    ranges=[]\n",
    "    for i in domain:\n",
    "        ranges.append(np.linspace(i[0],i[1],checks))\n",
    "    #list of lists of input vals\n",
    "    combinations= itertools.product(*ranges)\n",
    "    solutions = []\n",
    "    for i in combinations:\n",
    "        if not real:\n",
    "            temp=i[0]+i[1]\n",
    "            print(temp)\n",
    "            try:\n",
    "                r=solver(f,temp)\n",
    "                sol=float(r.real)+float(r.imag)*1j\n",
    "                if sol is not None:\n",
    "                    solutions.append(sol)\n",
    "                    solutions=list(set(solutions))\n",
    "            except:\n",
    "                pass\n",
    "        else:\n",
    "            sol=solver(f,i,args=params)\n",
    "            solutions.append(sol)\n",
    "            #remove duplicates\n",
    "            solutions=list(set(solutions))\n",
    "        \"\"\"if all(sol==None):\n",
    "            pass\"\"\"\n",
    "       \n",
    "    \n",
    "            \n",
    "        if len(solutions)==numsolutions:  \n",
    "            print(\"found requested num of sols\")\n",
    "            return solutions\n",
    "            return [i for i in solutions if all(i)]\n",
    "    if numsolutions != None:\n",
    "        print(\"did not find intended number of solutions\")\n",
    "    return solutions\n",
    "    #return [i for i in solutions if all(i)]"
   ]
  },
  {
   "cell_type": "code",
   "execution_count": 35,
   "metadata": {},
   "outputs": [
    {
     "name": "stdout",
     "output_type": "stream",
     "text": [
      "(-5-5j)\n",
      "(-5-4.898989898989899j)\n",
      "(-5-4.797979797979798j)\n",
      "(-5-4.696969696969697j)\n",
      "(-5-4.595959595959596j)\n",
      "(-5-4.494949494949495j)\n",
      "(-5-4.393939393939394j)\n",
      "(-5-4.292929292929292j)\n",
      "(-5-4.191919191919192j)\n",
      "(-5-4.090909090909091j)\n",
      "(-5-3.9898989898989896j)\n",
      "(-5-3.888888888888889j)\n",
      "(-5-3.7878787878787876j)\n",
      "(-5-3.686868686868687j)\n",
      "(-5-3.5858585858585856j)\n",
      "(-5-3.4848484848484844j)\n",
      "(-5-3.3838383838383836j)\n",
      "(-5-3.282828282828283j)\n",
      "(-5-3.1818181818181817j)\n",
      "(-5-3.0808080808080804j)\n",
      "(-5-2.9797979797979797j)\n",
      "(-5-2.8787878787878785j)\n",
      "(-5-2.7777777777777777j)\n",
      "(-5-2.6767676767676765j)\n",
      "(-5-2.5757575757575752j)\n",
      "(-5-2.4747474747474745j)\n",
      "(-5-2.3737373737373733j)\n",
      "(-5-2.2727272727272725j)\n",
      "(-5-2.1717171717171713j)\n",
      "(-5-2.0707070707070705j)\n",
      "(-5-1.9696969696969693j)\n",
      "(-5-1.8686868686868685j)\n",
      "(-5-1.7676767676767673j)\n",
      "(-5-1.666666666666666j)\n",
      "(-5-1.5656565656565653j)\n",
      "(-5-1.464646464646464j)\n",
      "(-5-1.3636363636363633j)\n",
      "(-5-1.262626262626262j)\n",
      "(-5-1.1616161616161613j)\n",
      "(-5-1.06060606060606j)\n",
      "(-5-0.9595959595959593j)\n",
      "(-5-0.8585858585858581j)\n",
      "(-5-0.7575757575757569j)\n",
      "(-5-0.6565656565656557j)\n",
      "(-5-0.5555555555555554j)\n",
      "(-5-0.45454545454545414j)\n",
      "found requested num of sols\n"
     ]
    },
    {
     "data": {
      "text/plain": [
       "[(-0.7271360844911968-0.9340992894605294j),\n",
       " (0.7271360844911968-0.4300142883297158j),\n",
       " (0.7271360844692464+0.4300142883185492j),\n",
       " (0.7271360844911968+0.4300142883297158j)]"
      ]
     },
     "execution_count": 35,
     "metadata": {},
     "output_type": "execute_result"
    }
   ],
   "source": [
    "import sympy as sp\n",
    "x=sp.Symbol('x')\n",
    "f=x**4-x+1+0j\n",
    "ffunc=sp.lambdify(x,f)\n",
    "#ffunc(1+1j)\n",
    "r=findroot(ffunc,1+1j)\n",
    "float(r.real)+float(r.imag)*1j\n",
    "getallsolutions(ffunc,[(-5,5),(-5j,5j)],numsolutions=4)\n",
    "\n"
   ]
  },
  {
   "cell_type": "code",
   "execution_count": 36,
   "metadata": {},
   "outputs": [
    {
     "name": "stderr",
     "output_type": "stream",
     "text": [
      "c:\\Users\\kiera\\anaconda3\\lib\\site-packages\\sympy\\core\\sympify.py:449: SymPyDeprecationWarning: \n",
      "\n",
      "String fallback in sympify has been deprecated since SymPy 1.6. Use\n",
      "sympify(str(obj)) or sympy.core.sympify.converter or obj._sympy_\n",
      "instead. See https://github.com/sympy/sympy/issues/18066 for more\n",
      "info.\n",
      "\n",
      "  SymPyDeprecationWarning(\n"
     ]
    },
    {
     "ename": "SympifyError",
     "evalue": "Sympify of expression 'could not parse '<function _lambdifygenerated at 0x0000024A64354310>'' failed, because of exception being raised:\nSyntaxError: invalid syntax (<string>, line 1)",
     "output_type": "error",
     "traceback": [
      "\u001b[1;31m---------------------------------------------------------------------------\u001b[0m",
      "\u001b[1;31mValueError\u001b[0m                                Traceback (most recent call last)",
      "\u001b[1;31mValueError\u001b[0m: Error from parse_expr with transformed code: \"<Symbol ('function' )Symbol ('_lambdifygenerated' )Symbol ('at' )Integer (0x0000024A64354310 )>\"",
      "\nThe above exception was the direct cause of the following exception:\n",
      "\u001b[1;31mSyntaxError\u001b[0m                               Traceback (most recent call last)",
      "\u001b[1;32mc:\\Users\\kiera\\anaconda3\\lib\\site-packages\\sympy\\core\\sympify.py\u001b[0m in \u001b[0;36msympify\u001b[1;34m(a, locals, convert_xor, strict, rational, evaluate)\u001b[0m\n\u001b[0;32m    471\u001b[0m         \u001b[0ma\u001b[0m \u001b[1;33m=\u001b[0m \u001b[0ma\u001b[0m\u001b[1;33m.\u001b[0m\u001b[0mreplace\u001b[0m\u001b[1;33m(\u001b[0m\u001b[1;34m'\\n'\u001b[0m\u001b[1;33m,\u001b[0m \u001b[1;34m''\u001b[0m\u001b[1;33m)\u001b[0m\u001b[1;33m\u001b[0m\u001b[1;33m\u001b[0m\u001b[0m\n\u001b[1;32m--> 472\u001b[1;33m         \u001b[0mexpr\u001b[0m \u001b[1;33m=\u001b[0m \u001b[0mparse_expr\u001b[0m\u001b[1;33m(\u001b[0m\u001b[0ma\u001b[0m\u001b[1;33m,\u001b[0m \u001b[0mlocal_dict\u001b[0m\u001b[1;33m=\u001b[0m\u001b[0mlocals\u001b[0m\u001b[1;33m,\u001b[0m \u001b[0mtransformations\u001b[0m\u001b[1;33m=\u001b[0m\u001b[0mtransformations\u001b[0m\u001b[1;33m,\u001b[0m \u001b[0mevaluate\u001b[0m\u001b[1;33m=\u001b[0m\u001b[0mevaluate\u001b[0m\u001b[1;33m)\u001b[0m\u001b[1;33m\u001b[0m\u001b[1;33m\u001b[0m\u001b[0m\n\u001b[0m\u001b[0;32m    473\u001b[0m     \u001b[1;32mexcept\u001b[0m \u001b[1;33m(\u001b[0m\u001b[0mTokenError\u001b[0m\u001b[1;33m,\u001b[0m \u001b[0mSyntaxError\u001b[0m\u001b[1;33m)\u001b[0m \u001b[1;32mas\u001b[0m \u001b[0mexc\u001b[0m\u001b[1;33m:\u001b[0m\u001b[1;33m\u001b[0m\u001b[1;33m\u001b[0m\u001b[0m\n",
      "\u001b[1;32mc:\\Users\\kiera\\anaconda3\\lib\\site-packages\\sympy\\parsing\\sympy_parser.py\u001b[0m in \u001b[0;36mparse_expr\u001b[1;34m(s, local_dict, transformations, global_dict, evaluate)\u001b[0m\n\u001b[0;32m   1025\u001b[0m             \u001b[0mlocal_dict\u001b[0m\u001b[1;33m[\u001b[0m\u001b[0mi\u001b[0m\u001b[1;33m]\u001b[0m \u001b[1;33m=\u001b[0m \u001b[1;32mNone\u001b[0m\u001b[1;33m\u001b[0m\u001b[1;33m\u001b[0m\u001b[0m\n\u001b[1;32m-> 1026\u001b[1;33m         \u001b[1;32mraise\u001b[0m \u001b[0me\u001b[0m \u001b[1;32mfrom\u001b[0m \u001b[0mValueError\u001b[0m\u001b[1;33m(\u001b[0m\u001b[1;34mf\"Error from parse_expr with transformed code: {code!r}\"\u001b[0m\u001b[1;33m)\u001b[0m\u001b[1;33m\u001b[0m\u001b[1;33m\u001b[0m\u001b[0m\n\u001b[0m\u001b[0;32m   1027\u001b[0m \u001b[1;33m\u001b[0m\u001b[0m\n",
      "\u001b[1;32mc:\\Users\\kiera\\anaconda3\\lib\\site-packages\\sympy\\parsing\\sympy_parser.py\u001b[0m in \u001b[0;36mparse_expr\u001b[1;34m(s, local_dict, transformations, global_dict, evaluate)\u001b[0m\n\u001b[0;32m   1016\u001b[0m     \u001b[1;32mtry\u001b[0m\u001b[1;33m:\u001b[0m\u001b[1;33m\u001b[0m\u001b[1;33m\u001b[0m\u001b[0m\n\u001b[1;32m-> 1017\u001b[1;33m         \u001b[0mrv\u001b[0m \u001b[1;33m=\u001b[0m \u001b[0meval_expr\u001b[0m\u001b[1;33m(\u001b[0m\u001b[0mcode\u001b[0m\u001b[1;33m,\u001b[0m \u001b[0mlocal_dict\u001b[0m\u001b[1;33m,\u001b[0m \u001b[0mglobal_dict\u001b[0m\u001b[1;33m)\u001b[0m\u001b[1;33m\u001b[0m\u001b[1;33m\u001b[0m\u001b[0m\n\u001b[0m\u001b[0;32m   1018\u001b[0m         \u001b[1;31m# restore neutral definitions for names\u001b[0m\u001b[1;33m\u001b[0m\u001b[1;33m\u001b[0m\u001b[1;33m\u001b[0m\u001b[0m\n",
      "\u001b[1;32mc:\\Users\\kiera\\anaconda3\\lib\\site-packages\\sympy\\parsing\\sympy_parser.py\u001b[0m in \u001b[0;36meval_expr\u001b[1;34m(code, local_dict, global_dict)\u001b[0m\n\u001b[0;32m    910\u001b[0m     \"\"\"\n\u001b[1;32m--> 911\u001b[1;33m     expr = eval(\n\u001b[0m\u001b[0;32m    912\u001b[0m         code, global_dict, local_dict)  # take local objects in preference\n",
      "\u001b[1;31mSyntaxError\u001b[0m: invalid syntax (<string>, line 1)",
      "\nDuring handling of the above exception, another exception occurred:\n",
      "\u001b[1;31mSympifyError\u001b[0m                              Traceback (most recent call last)",
      "\u001b[1;32m~\\AppData\\Local\\Temp/ipykernel_9348/1646803124.py\u001b[0m in \u001b[0;36m<module>\u001b[1;34m\u001b[0m\n\u001b[1;32m----> 1\u001b[1;33m \u001b[0msp\u001b[0m\u001b[1;33m.\u001b[0m\u001b[0mdiff\u001b[0m\u001b[1;33m(\u001b[0m\u001b[0mffunc\u001b[0m\u001b[1;33m,\u001b[0m\u001b[0mx\u001b[0m\u001b[1;33m)\u001b[0m\u001b[1;33m\u001b[0m\u001b[1;33m\u001b[0m\u001b[0m\n\u001b[0m",
      "\u001b[1;32mc:\\Users\\kiera\\anaconda3\\lib\\site-packages\\sympy\\core\\function.py\u001b[0m in \u001b[0;36mdiff\u001b[1;34m(f, *symbols, **kwargs)\u001b[0m\n\u001b[0;32m   2491\u001b[0m         \u001b[1;32mreturn\u001b[0m \u001b[0mf\u001b[0m\u001b[1;33m.\u001b[0m\u001b[0mdiff\u001b[0m\u001b[1;33m(\u001b[0m\u001b[1;33m*\u001b[0m\u001b[0msymbols\u001b[0m\u001b[1;33m,\u001b[0m \u001b[1;33m**\u001b[0m\u001b[0mkwargs\u001b[0m\u001b[1;33m)\u001b[0m\u001b[1;33m\u001b[0m\u001b[1;33m\u001b[0m\u001b[0m\n\u001b[0;32m   2492\u001b[0m     \u001b[0mkwargs\u001b[0m\u001b[1;33m.\u001b[0m\u001b[0msetdefault\u001b[0m\u001b[1;33m(\u001b[0m\u001b[1;34m'evaluate'\u001b[0m\u001b[1;33m,\u001b[0m \u001b[1;32mTrue\u001b[0m\u001b[1;33m)\u001b[0m\u001b[1;33m\u001b[0m\u001b[1;33m\u001b[0m\u001b[0m\n\u001b[1;32m-> 2493\u001b[1;33m     \u001b[1;32mreturn\u001b[0m \u001b[0m_derivative_dispatch\u001b[0m\u001b[1;33m(\u001b[0m\u001b[0mf\u001b[0m\u001b[1;33m,\u001b[0m \u001b[1;33m*\u001b[0m\u001b[0msymbols\u001b[0m\u001b[1;33m,\u001b[0m \u001b[1;33m**\u001b[0m\u001b[0mkwargs\u001b[0m\u001b[1;33m)\u001b[0m\u001b[1;33m\u001b[0m\u001b[1;33m\u001b[0m\u001b[0m\n\u001b[0m\u001b[0;32m   2494\u001b[0m \u001b[1;33m\u001b[0m\u001b[0m\n\u001b[0;32m   2495\u001b[0m \u001b[1;33m\u001b[0m\u001b[0m\n",
      "\u001b[1;32mc:\\Users\\kiera\\anaconda3\\lib\\site-packages\\sympy\\core\\function.py\u001b[0m in \u001b[0;36m_derivative_dispatch\u001b[1;34m(expr, *variables, **kwargs)\u001b[0m\n\u001b[0;32m   1917\u001b[0m         \u001b[1;32mfrom\u001b[0m \u001b[0msympy\u001b[0m\u001b[1;33m.\u001b[0m\u001b[0mtensor\u001b[0m\u001b[1;33m.\u001b[0m\u001b[0marray\u001b[0m\u001b[1;33m.\u001b[0m\u001b[0marray_derivatives\u001b[0m \u001b[1;32mimport\u001b[0m \u001b[0mArrayDerivative\u001b[0m\u001b[1;33m\u001b[0m\u001b[1;33m\u001b[0m\u001b[0m\n\u001b[0;32m   1918\u001b[0m         \u001b[1;32mreturn\u001b[0m \u001b[0mArrayDerivative\u001b[0m\u001b[1;33m(\u001b[0m\u001b[0mexpr\u001b[0m\u001b[1;33m,\u001b[0m \u001b[1;33m*\u001b[0m\u001b[0mvariables\u001b[0m\u001b[1;33m,\u001b[0m \u001b[1;33m**\u001b[0m\u001b[0mkwargs\u001b[0m\u001b[1;33m)\u001b[0m\u001b[1;33m\u001b[0m\u001b[1;33m\u001b[0m\u001b[0m\n\u001b[1;32m-> 1919\u001b[1;33m     \u001b[1;32mreturn\u001b[0m \u001b[0mDerivative\u001b[0m\u001b[1;33m(\u001b[0m\u001b[0mexpr\u001b[0m\u001b[1;33m,\u001b[0m \u001b[1;33m*\u001b[0m\u001b[0mvariables\u001b[0m\u001b[1;33m,\u001b[0m \u001b[1;33m**\u001b[0m\u001b[0mkwargs\u001b[0m\u001b[1;33m)\u001b[0m\u001b[1;33m\u001b[0m\u001b[1;33m\u001b[0m\u001b[0m\n\u001b[0m\u001b[0;32m   1920\u001b[0m \u001b[1;33m\u001b[0m\u001b[0m\n\u001b[0;32m   1921\u001b[0m \u001b[1;33m\u001b[0m\u001b[0m\n",
      "\u001b[1;32mc:\\Users\\kiera\\anaconda3\\lib\\site-packages\\sympy\\core\\function.py\u001b[0m in \u001b[0;36m__new__\u001b[1;34m(cls, expr, *variables, **kwargs)\u001b[0m\n\u001b[0;32m   1246\u001b[0m         \u001b[1;32mfrom\u001b[0m \u001b[0msympy\u001b[0m\u001b[1;33m.\u001b[0m\u001b[0mutilities\u001b[0m\u001b[1;33m.\u001b[0m\u001b[0mmisc\u001b[0m \u001b[1;32mimport\u001b[0m \u001b[0mfilldedent\u001b[0m\u001b[1;33m\u001b[0m\u001b[1;33m\u001b[0m\u001b[0m\n\u001b[0;32m   1247\u001b[0m \u001b[1;33m\u001b[0m\u001b[0m\n\u001b[1;32m-> 1248\u001b[1;33m         \u001b[0mexpr\u001b[0m \u001b[1;33m=\u001b[0m \u001b[0msympify\u001b[0m\u001b[1;33m(\u001b[0m\u001b[0mexpr\u001b[0m\u001b[1;33m)\u001b[0m\u001b[1;33m\u001b[0m\u001b[1;33m\u001b[0m\u001b[0m\n\u001b[0m\u001b[0;32m   1249\u001b[0m         \u001b[0msymbols_or_none\u001b[0m \u001b[1;33m=\u001b[0m \u001b[0mgetattr\u001b[0m\u001b[1;33m(\u001b[0m\u001b[0mexpr\u001b[0m\u001b[1;33m,\u001b[0m \u001b[1;34m\"free_symbols\"\u001b[0m\u001b[1;33m,\u001b[0m \u001b[1;32mNone\u001b[0m\u001b[1;33m)\u001b[0m\u001b[1;33m\u001b[0m\u001b[1;33m\u001b[0m\u001b[0m\n\u001b[0;32m   1250\u001b[0m         \u001b[0mhas_symbol_set\u001b[0m \u001b[1;33m=\u001b[0m \u001b[0misinstance\u001b[0m\u001b[1;33m(\u001b[0m\u001b[0msymbols_or_none\u001b[0m\u001b[1;33m,\u001b[0m \u001b[0mset\u001b[0m\u001b[1;33m)\u001b[0m\u001b[1;33m\u001b[0m\u001b[1;33m\u001b[0m\u001b[0m\n",
      "\u001b[1;32mc:\\Users\\kiera\\anaconda3\\lib\\site-packages\\sympy\\core\\sympify.py\u001b[0m in \u001b[0;36msympify\u001b[1;34m(a, locals, convert_xor, strict, rational, evaluate)\u001b[0m\n\u001b[0;32m    472\u001b[0m         \u001b[0mexpr\u001b[0m \u001b[1;33m=\u001b[0m \u001b[0mparse_expr\u001b[0m\u001b[1;33m(\u001b[0m\u001b[0ma\u001b[0m\u001b[1;33m,\u001b[0m \u001b[0mlocal_dict\u001b[0m\u001b[1;33m=\u001b[0m\u001b[0mlocals\u001b[0m\u001b[1;33m,\u001b[0m \u001b[0mtransformations\u001b[0m\u001b[1;33m=\u001b[0m\u001b[0mtransformations\u001b[0m\u001b[1;33m,\u001b[0m \u001b[0mevaluate\u001b[0m\u001b[1;33m=\u001b[0m\u001b[0mevaluate\u001b[0m\u001b[1;33m)\u001b[0m\u001b[1;33m\u001b[0m\u001b[1;33m\u001b[0m\u001b[0m\n\u001b[0;32m    473\u001b[0m     \u001b[1;32mexcept\u001b[0m \u001b[1;33m(\u001b[0m\u001b[0mTokenError\u001b[0m\u001b[1;33m,\u001b[0m \u001b[0mSyntaxError\u001b[0m\u001b[1;33m)\u001b[0m \u001b[1;32mas\u001b[0m \u001b[0mexc\u001b[0m\u001b[1;33m:\u001b[0m\u001b[1;33m\u001b[0m\u001b[1;33m\u001b[0m\u001b[0m\n\u001b[1;32m--> 474\u001b[1;33m         \u001b[1;32mraise\u001b[0m \u001b[0mSympifyError\u001b[0m\u001b[1;33m(\u001b[0m\u001b[1;34m'could not parse %r'\u001b[0m \u001b[1;33m%\u001b[0m \u001b[0ma\u001b[0m\u001b[1;33m,\u001b[0m \u001b[0mexc\u001b[0m\u001b[1;33m)\u001b[0m\u001b[1;33m\u001b[0m\u001b[1;33m\u001b[0m\u001b[0m\n\u001b[0m\u001b[0;32m    475\u001b[0m \u001b[1;33m\u001b[0m\u001b[0m\n\u001b[0;32m    476\u001b[0m     \u001b[1;32mreturn\u001b[0m \u001b[0mexpr\u001b[0m\u001b[1;33m\u001b[0m\u001b[1;33m\u001b[0m\u001b[0m\n",
      "\u001b[1;31mSympifyError\u001b[0m: Sympify of expression 'could not parse '<function _lambdifygenerated at 0x0000024A64354310>'' failed, because of exception being raised:\nSyntaxError: invalid syntax (<string>, line 1)"
     ]
    }
   ],
   "source": [
    "sp.diff(ffunc,x)"
   ]
  },
  {
   "cell_type": "code",
   "execution_count": 41,
   "metadata": {},
   "outputs": [
    {
     "data": {
      "text/plain": [
       "8.0"
      ]
     },
     "execution_count": 41,
     "metadata": {},
     "output_type": "execute_result"
    }
   ],
   "source": [
    "x=1.2345+8j\n",
    "x.imag"
   ]
  }
 ],
 "metadata": {
  "interpreter": {
   "hash": "ed1725c1f6d906f02e27a144704f8810edd0aa8bdeb8140070ef859355d2be15"
  },
  "kernelspec": {
   "display_name": "Python 3.8.12 ('base')",
   "language": "python",
   "name": "python3"
  },
  "language_info": {
   "codemirror_mode": {
    "name": "ipython",
    "version": 3
   },
   "file_extension": ".py",
   "mimetype": "text/x-python",
   "name": "python",
   "nbconvert_exporter": "python",
   "pygments_lexer": "ipython3",
   "version": "3.8.12"
  },
  "orig_nbformat": 4
 },
 "nbformat": 4,
 "nbformat_minor": 2
}
