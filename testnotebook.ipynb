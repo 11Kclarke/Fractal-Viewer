{
 "cells": [
  {
   "cell_type": "code",
   "execution_count": 1,
   "metadata": {},
   "outputs": [
    {
     "data": {
      "text/plain": [
       "array([[ 0,  1,  2,  3],\n",
       "       [ 4,  5,  6,  7],\n",
       "       [ 8,  9, 10, 11],\n",
       "       [12, 13, 14, 15]])"
      ]
     },
     "execution_count": 1,
     "metadata": {},
     "output_type": "execute_result"
    }
   ],
   "source": [
    "\n",
    "import numpy as np\n",
    "Sidelength=4\n",
    "arr = np.arange(Sidelength**2)\n",
    "arr=arr.reshape(Sidelength,Sidelength)\n",
    "arr"
   ]
  },
  {
   "cell_type": "code",
   "execution_count": 1,
   "metadata": {},
   "outputs": [
    {
     "name": "stdout",
     "output_type": "stream",
     "text": [
      "[('Jack', 76), ('Cirus', 77), ('Beneth', 78), ('Faiz', 79)]\n"
     ]
    }
   ],
   "source": [
    "sample = [('Jack', 76), ('Beneth', 78), ('Cirus', 77), ('Faiz', 79)]\n",
    "sample.sort(key=lambda a: a[1])\n",
    "print(sample)"
   ]
  },
  {
   "cell_type": "code",
   "execution_count": 3,
   "metadata": {},
   "outputs": [
    {
     "data": {
      "text/plain": [
       "-1"
      ]
     },
     "execution_count": 3,
     "metadata": {},
     "output_type": "execute_result"
    }
   ],
   "source": [
    "[i[0] for i in sample][0].rfind(\"x\")"
   ]
  },
  {
   "cell_type": "code",
   "execution_count": 5,
   "metadata": {},
   "outputs": [
    {
     "data": {
      "text/plain": [
       "[('Cirus', 77), ('Beneth', 78)]"
      ]
     },
     "execution_count": 5,
     "metadata": {},
     "output_type": "execute_result"
    }
   ],
   "source": [
    "sample[1:3]"
   ]
  },
  {
   "cell_type": "code",
   "execution_count": 61,
   "metadata": {},
   "outputs": [
    {
     "name": "stdout",
     "output_type": "stream",
     "text": [
      "[2 3 0 1]\n"
     ]
    }
   ],
   "source": [
    "rows = np.arange(Sidelength)\n",
    "rowsshuffed=rows\n",
    "colsshuffed=rows\n",
    "np.random.shuffle(rowsshuffed)\n",
    "np.random.shuffle(colsshuffed)\n",
    "print(rowsshuffed)"
   ]
  },
  {
   "cell_type": "code",
   "execution_count": 64,
   "metadata": {},
   "outputs": [
    {
     "data": {
      "text/plain": [
       "array([[ 8,  9, 10, 11],\n",
       "       [12, 13, 14, 15],\n",
       "       [ 0,  1,  2,  3],\n",
       "       [ 4,  5,  6,  7]])"
      ]
     },
     "execution_count": 64,
     "metadata": {},
     "output_type": "execute_result"
    }
   ],
   "source": [
    "arrcopy=arr.copy()\n",
    "for i,r in enumerate(rowsshuffed):\n",
    "    arr[i,:]=arrcopy[r,:]\n",
    "arr"
   ]
  },
  {
   "cell_type": "code",
   "execution_count": 4,
   "metadata": {},
   "outputs": [
    {
     "data": {
      "text/plain": [
       "array([ 0,  4,  8, 12,  1,  5,  9, 13,  2,  6, 10, 14,  3,  7, 11, 15])"
      ]
     },
     "execution_count": 4,
     "metadata": {},
     "output_type": "execute_result"
    }
   ],
   "source": [
    "arrcols = arr.reshape(4,4).T.flatten()"
   ]
  },
  {
   "cell_type": "code",
   "execution_count": 47,
   "metadata": {},
   "outputs": [
    {
     "data": {
      "text/plain": [
       "array([[ 4,  5,  6,  7],\n",
       "       [ 0,  1,  2,  3],\n",
       "       [12, 13, 14, 15],\n",
       "       [ 8,  9, 10, 11]])"
      ]
     },
     "execution_count": 47,
     "metadata": {},
     "output_type": "execute_result"
    }
   ],
   "source": [
    "np.random.shuffle(arr)\n",
    "arr"
   ]
  },
  {
   "cell_type": "code",
   "execution_count": 69,
   "metadata": {},
   "outputs": [
    {
     "data": {
      "text/plain": [
       "array([[ 0,  0,  0,  0],\n",
       "       [ 0,  5,  0,  0],\n",
       "       [ 0,  0, 10,  0],\n",
       "       [ 0,  0,  0, 15]])"
      ]
     },
     "execution_count": 69,
     "metadata": {},
     "output_type": "execute_result"
    }
   ],
   "source": [
    "trans=np.diag([1,1,1,1])\n",
    "trans.T*arr"
   ]
  },
  {
   "cell_type": "code",
   "execution_count": 80,
   "metadata": {},
   "outputs": [
    {
     "name": "stdout",
     "output_type": "stream",
     "text": [
      "4\n",
      "16\n"
     ]
    },
    {
     "data": {
      "text/plain": [
       "array([[-2.        -4.j        , -0.66666667-4.j        ,\n",
       "         0.66666667-4.j        ,  2.        -4.j        ],\n",
       "       [-2.        -3.46666667j, -0.66666667-3.46666667j,\n",
       "         0.66666667-3.46666667j,  2.        -3.46666667j],\n",
       "       [-2.        -2.93333333j, -0.66666667-2.93333333j,\n",
       "         0.66666667-2.93333333j,  2.        -2.93333333j],\n",
       "       [-2.        -2.4j       , -0.66666667-2.4j       ,\n",
       "         0.66666667-2.4j       ,  2.        -2.4j       ],\n",
       "       [-2.        -1.86666667j, -0.66666667-1.86666667j,\n",
       "         0.66666667-1.86666667j,  2.        -1.86666667j],\n",
       "       [-2.        -1.33333333j, -0.66666667-1.33333333j,\n",
       "         0.66666667-1.33333333j,  2.        -1.33333333j],\n",
       "       [-2.        -0.8j       , -0.66666667-0.8j       ,\n",
       "         0.66666667-0.8j       ,  2.        -0.8j       ],\n",
       "       [-2.        -0.26666667j, -0.66666667-0.26666667j,\n",
       "         0.66666667-0.26666667j,  2.        -0.26666667j],\n",
       "       [-2.        +0.26666667j, -0.66666667+0.26666667j,\n",
       "         0.66666667+0.26666667j,  2.        +0.26666667j],\n",
       "       [-2.        +0.8j       , -0.66666667+0.8j       ,\n",
       "         0.66666667+0.8j       ,  2.        +0.8j       ],\n",
       "       [-2.        +1.33333333j, -0.66666667+1.33333333j,\n",
       "         0.66666667+1.33333333j,  2.        +1.33333333j],\n",
       "       [-2.        +1.86666667j, -0.66666667+1.86666667j,\n",
       "         0.66666667+1.86666667j,  2.        +1.86666667j],\n",
       "       [-2.        +2.4j       , -0.66666667+2.4j       ,\n",
       "         0.66666667+2.4j       ,  2.        +2.4j       ],\n",
       "       [-2.        +2.93333333j, -0.66666667+2.93333333j,\n",
       "         0.66666667+2.93333333j,  2.        +2.93333333j],\n",
       "       [-2.        +3.46666667j, -0.66666667+3.46666667j,\n",
       "         0.66666667+3.46666667j,  2.        +3.46666667j],\n",
       "       [-2.        +4.j        , -0.66666667+4.j        ,\n",
       "         0.66666667+4.j        ,  2.        +4.j        ]])"
      ]
     },
     "execution_count": 80,
     "metadata": {},
     "output_type": "execute_result"
    }
   ],
   "source": [
    "def createstartvals(x1,x2,y1,y2,SideLength):#this essentially creates a flattened grid for using as input into pyopenclfuncs\n",
    "    Xlength=int(abs((x1-x2)/(y1-y2)*SideLength))\n",
    "    Ylength=int(abs((y1-y2)/(x1-x2)*SideLength))\n",
    "    Xs=np.linspace(x1,x2,Xlength,dtype=np.complex128)\n",
    "    Ys=np.linspace(y1*1j,y2*1j,Ylength)\n",
    "    Vals=np.zeros(SideLength*SideLength,dtype=np.complex128)\n",
    "    \"\"\"for i,x in enumerate(Xs):\n",
    "        for j,y in enumerate(Ys):\n",
    "            Vals[i,j]=x+y\"\"\"\n",
    "    for i in range(Ylength):\n",
    "        Vals[i*Xlength:i*Xlength+Xlength]=Xs\n",
    "        Vals[i*Xlength:i*Xlength+Xlength]+=Ys[i]#every y val repeated side length times\"\"\"\n",
    "    return Vals.reshape(Ylength,Xlength)#can be reshaped into square grid    \n",
    "createstartvals(-2,2,-4,4,8)"
   ]
  },
  {
   "cell_type": "code",
   "execution_count": 1,
   "metadata": {},
   "outputs": [
    {
     "data": {
      "text/plain": [
       "0"
      ]
     },
     "execution_count": 1,
     "metadata": {},
     "output_type": "execute_result"
    }
   ],
   "source": [
    "#With floyds tortoise and hair\n",
    "StabilityFractalWithCycle=\"\"\"\n",
    "    int Counter = 0;\n",
    "    dtype_t Const = X[i];//dont rename\n",
    "    \n",
    "    dtype_t pastval = (dtype_t){0,0};\n",
    "    dtype_t Xi=(dtype_t){0,0};\n",
    "    \n",
    "    while (dtype_abs_squared(Xi)<DivLim && Counter<N){\n",
    "        \n",
    "        Xi=__f(Xi,Const)__;\n",
    "        Xi=__f(Xi,Const)__;\n",
    "        \n",
    "        pastval=__f(pastval,Const)__;\n",
    "        Counter+=1;\n",
    "        if (fabs(Xi.real-pastval.real)< cycleacc && fabs(Xi.imag-pastval.imag)< cycleacc){\n",
    "                \n",
    "            Xi.real=-Counter;//negative so it can be seen easily where cycles have been found\n",
    "            Counter=N+1;\n",
    "            PYOPENCL_ELWISE_CONTINUE;//pretty sure this does nothing\n",
    "            \n",
    "        }\n",
    "        \n",
    "    }"
   ]
  }
 ],
 "metadata": {
  "kernelspec": {
   "display_name": "Python 3.7.13 ('FractalStuff')",
   "language": "python",
   "name": "python3"
  },
  "language_info": {
   "codemirror_mode": {
    "name": "ipython",
    "version": 3
   },
   "file_extension": ".py",
   "mimetype": "text/x-python",
   "name": "python",
   "nbconvert_exporter": "python",
   "pygments_lexer": "ipython3",
   "version": "3.7.13"
  },
  "orig_nbformat": 4,
  "vscode": {
   "interpreter": {
    "hash": "387febd8b583cd8a823a37230742087d9f514c597651d61d920d1ca267c6b002"
   }
  }
 },
 "nbformat": 4,
 "nbformat_minor": 2
}
